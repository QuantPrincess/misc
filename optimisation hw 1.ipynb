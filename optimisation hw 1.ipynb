{
 "cells": [
  {
   "cell_type": "code",
   "execution_count": 9,
   "id": "de36855d",
   "metadata": {},
   "outputs": [
    {
     "name": "stdout",
     "output_type": "stream",
     "text": [
      "Number of variables = 3\n",
      "Number of constraints = 3\n",
      "Solution:\n",
      "Objective value = 9.5\n",
      "x = 2.5\n",
      "y = 0.0\n",
      "z = 0.49999999999999994\n"
     ]
    }
   ],
   "source": [
    "from ortools.linear_solver import pywraplp\n",
    "\n",
    "\n",
    "def LinearProgrammingExample():\n",
    "    solver = pywraplp.Solver.CreateSolver('GLOP')\n",
    "    if not solver:\n",
    "        return\n",
    "\n",
    "    x = solver.NumVar(0, solver.infinity(), 'x')\n",
    "    y = solver.NumVar(0, solver.infinity(), 'y')\n",
    "    z = solver.NumVar(0, solver.infinity(), 'z')\n",
    "\n",
    "    print('Number of variables =', solver.NumVariables())\n",
    "\n",
    "    solver.Add(x + 3*z <= 6.0)\n",
    "\n",
    "    solver.Add(3 * x + y + 3*z<= 9.0)\n",
    "\n",
    "    solver.Add(x + y-z <= 2.0)\n",
    "\n",
    "    print('Number of constraints =', solver.NumConstraints())\n",
    "    \n",
    "    #Obj\n",
    "    solver.Maximize(4 * x + y-z)\n",
    "\n",
    "    status = solver.Solve()\n",
    "\n",
    "    if status == pywraplp.Solver.OPTIMAL:\n",
    "        print('Solution:')\n",
    "        print('Objective value =', solver.Objective().Value())\n",
    "        print('x =', x.solution_value())\n",
    "        print('y =', y.solution_value())\n",
    "        print('z =', z.solution_value())\n",
    "    else:\n",
    "        print('No optimal solution.')\n",
    "LinearProgrammingExample()"
   ]
  },
  {
   "cell_type": "code",
   "execution_count": 10,
   "id": "a638c0c0",
   "metadata": {},
   "outputs": [
    {
     "name": "stdout",
     "output_type": "stream",
     "text": [
      "Number of variables = 4\n",
      "Number of constraints = 2\n",
      "Solution:\n",
      "Objective value = 13.588235294117647\n",
      "x = 0.0\n",
      "y = 1.1176470588235294\n",
      "z = 0.0\n",
      "q = 0.7647058823529411\n"
     ]
    }
   ],
   "source": [
    "def LinearProgrammingExample():\n",
    "\n",
    "    solver = pywraplp.Solver.CreateSolver('GLOP')\n",
    "    if not solver:\n",
    "        return\n",
    "\n",
    "    # Create the two variables and let them take on any non-negative value.\n",
    "    x = solver.NumVar(0, solver.infinity(), 'x')\n",
    "    y = solver.NumVar(0, solver.infinity(), 'y')\n",
    "    z = solver.NumVar(0, solver.infinity(), 'z')\n",
    "    q = solver.NumVar(0, solver.infinity(), 'q')\n",
    "\n",
    "    print('Number of variables =', solver.NumVariables())\n",
    "\n",
    "    solver.Add(x + 2*y+z+q >= 3.0)\n",
    "\n",
    "\n",
    "    solver.Add(2 * x + y + 4*z+9*q>= 8.0)\n",
    "\n",
    "    print('Number of constraints =', solver.NumConstraints())\n",
    "\n",
    "    #Obj\n",
    "    solver.Minimize(6 * x +6* y+8*z+9*q)\n",
    "\n",
    "    status = solver.Solve()\n",
    "\n",
    "    if status == pywraplp.Solver.OPTIMAL:\n",
    "        print('Solution:')\n",
    "        print('Objective value =', solver.Objective().Value())\n",
    "        print('x =', x.solution_value())\n",
    "        print('y =', y.solution_value())\n",
    "        print('z =', z.solution_value())\n",
    "        print('q =', q.solution_value())\n",
    "    else:\n",
    "        print('The problem does not have an optimal solution.')\n",
    "\n",
    "LinearProgrammingExample()"
   ]
  }
 ],
 "metadata": {
  "kernelspec": {
   "display_name": "Python 3 (ipykernel)",
   "language": "python",
   "name": "python3"
  },
  "language_info": {
   "codemirror_mode": {
    "name": "ipython",
    "version": 3
   },
   "file_extension": ".py",
   "mimetype": "text/x-python",
   "name": "python",
   "nbconvert_exporter": "python",
   "pygments_lexer": "ipython3",
   "version": "3.9.7"
  }
 },
 "nbformat": 4,
 "nbformat_minor": 5
}
