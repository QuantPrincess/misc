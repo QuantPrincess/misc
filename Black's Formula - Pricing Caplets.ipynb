{
 "cells": [
  {
   "cell_type": "code",
   "execution_count": 1,
   "id": "574e0eb5",
   "metadata": {},
   "outputs": [],
   "source": [
    "import numpy as np\n",
    "import scipy\n",
    "from scipy.stats import norm\n",
    "import random"
   ]
  },
  {
   "cell_type": "code",
   "execution_count": 17,
   "id": "468594ff",
   "metadata": {},
   "outputs": [
    {
     "name": "stdout",
     "output_type": "stream",
     "text": [
      "-0.4331560155693146 -0.6311459143015479 0.33245071525158126 0.2639725611211332 0.002113984956317396 948122.2529083522\n"
     ]
    }
   ],
   "source": [
    "f=0.054\n",
    "K=0.06\n",
    "sigma=0.14\n",
    "T1=2\n",
    "\n",
    "d1 = (np.log(f/K)+(0.5*sigma**2)*T1) / (sigma*np.sqrt(T1))\n",
    "d2 = d1-sigma*np.sqrt(T1)\n",
    "\n",
    "nd1=norm.cdf(d1)\n",
    "nd2=norm.cdf(d2)\n",
    "Q = (f*norm.cdf(d1) - K*norm.cdf(d2))\n",
    "cap=Q*0.897*0.5*1000000000\n",
    "print(d1, d2,nd1,nd2,Q, cap)"
   ]
  },
  {
   "cell_type": "code",
   "execution_count": 16,
   "id": "eeb37e20",
   "metadata": {},
   "outputs": [
    {
     "name": "stdout",
     "output_type": "stream",
     "text": [
      "0.0031703883775641207\n",
      "2.5066282746310002\n"
     ]
    }
   ],
   "source": [
    "q=0.02*(norm.cdf(0.2)-norm.cdf(-0.2))\n",
    "print(q)\n",
    "print(np.sqrt(2*np.pi))"
   ]
  },
  {
   "cell_type": "code",
   "execution_count": null,
   "id": "ec7481e2",
   "metadata": {},
   "outputs": [],
   "source": []
  }
 ],
 "metadata": {
  "kernelspec": {
   "display_name": "Python 3 (ipykernel)",
   "language": "python",
   "name": "python3"
  },
  "language_info": {
   "codemirror_mode": {
    "name": "ipython",
    "version": 3
   },
   "file_extension": ".py",
   "mimetype": "text/x-python",
   "name": "python",
   "nbconvert_exporter": "python",
   "pygments_lexer": "ipython3",
   "version": "3.9.7"
  }
 },
 "nbformat": 4,
 "nbformat_minor": 5
}
