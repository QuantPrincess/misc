{
 "cells": [
  {
   "cell_type": "code",
   "execution_count": 144,
   "id": "7b806e0f",
   "metadata": {},
   "outputs": [],
   "source": [
    "import numpy as np\n",
    "import scipy\n",
    "from scipy.stats import norm\n",
    "import random\n",
    "import matplotlib.pyplot as plt"
   ]
  },
  {
   "cell_type": "code",
   "execution_count": 145,
   "id": "08906efb",
   "metadata": {},
   "outputs": [
    {
     "name": "stdout",
     "output_type": "stream",
     "text": [
      "303796188.02864975\n"
     ]
    }
   ],
   "source": [
    "f1_final =[]\n",
    "f2_final=[]\n",
    "payoff1=[]\n",
    "payoff2=[]\n",
    "reverse_payoff=[]\n",
    "\n",
    "f01=0.04\n",
    "f02=0.043\n",
    "rho=0.7\n",
    "sigma1=0.12\n",
    "sigma2=0.14\n",
    "tau=0.5\n",
    "shro=np.sqrt(1-rho**2)\n",
    "steps=300\n",
    "for n in range(0,10000):\n",
    "    \n",
    "    Bt0 = [0]+ np.random.standard_normal(size=steps)\n",
    "    sqrtBt0 = np.cumsum(Bt0)*np.sqrt(tau)\n",
    "    Bt1 = [0]+ np.random.standard_normal(size=steps)\n",
    "    sqrtBt1 = np.cumsum(Bt0)*np.sqrt(tau)\n",
    "    Bt2 = rho*sqrtBt1+shro*sqrtBt0\n",
    "    \n",
    "    f1=f01*np.exp(-(0.5*sigma1**2)*tau+sigma1*sqrtBt1)\n",
    "    f2=f02*np.exp(-(0.5*sigma2**2)*tau+sigma2*Bt2)\n",
    "    \n",
    "    \n",
    "    f1_final.append(f1[-1])\n",
    "    f2_final.append(f2[-1])\n",
    "\n",
    "\n",
    "for i in range(0,len(f1_final)):\n",
    "    f1k1=f1_final[i]-0.035\n",
    "    if f1k1>0:\n",
    "        payoff1.append(f1k1)\n",
    "    else:\n",
    "        payoff1.append(0)\n",
    "    \n",
    "    f2k2=f2_final[i]-0.037\n",
    "    if f2k2>0:\n",
    "        payoff2.append(f2k2)\n",
    "    else:\n",
    "        payoff2.append(0)\n",
    "    reverse_payoff.append(payoff2[i]-payoff1[i])\n",
    "mc_price = 10**9*0.5*np.mean(reverse_payoff)\n",
    "print(mc_price)\n",
    "\n",
    "\n",
    "\n"
   ]
  },
  {
   "cell_type": "code",
   "execution_count": 152,
   "id": "929ba129",
   "metadata": {},
   "outputs": [
    {
     "name": "stdout",
     "output_type": "stream",
     "text": [
      "301793075.81843215\n"
     ]
    }
   ],
   "source": [
    "f1_final =[]\n",
    "f2_final=[]\n",
    "payoff1=[]\n",
    "payoff2=[]\n",
    "reverse_payoff=[]\n",
    "\n",
    "f01=0.04\n",
    "f02=0.043\n",
    "rho=0.7\n",
    "sigma1=0.12\n",
    "sigma2=0.14\n",
    "tau=0.5\n",
    "shro=np.sqrt(1-rho**2)\n",
    "steps=300\n",
    "mu=(0.14**2*0.5*0.043)/(1+0.5*0.043)\n",
    "for n in range(0,10000):\n",
    "    \n",
    "    Bt0 = [0]+ np.random.standard_normal(size=steps)\n",
    "    sqrtBt0 = np.cumsum(Bt0)*np.sqrt(tau)\n",
    "    Bt1 = [0]+ np.random.standard_normal(size=steps)\n",
    "    sqrtBt1 = np.cumsum(Bt0)*np.sqrt(tau)\n",
    "    Bt2 = rho*sqrtBt1+shro*sqrtBt0\n",
    "    \n",
    "    f1=f01*np.exp(tau-(0.5*sigma1**2)*tau+sigma1*sqrtBt1)\n",
    "    f2=f02*np.exp(mu*tau-(0.5*sigma2**2)*tau+sigma2*Bt2)\n",
    "    \n",
    "    \n",
    "    f1_final.append(f1[-1])\n",
    "    f2_final.append(f2[-1])\n",
    "\n",
    "\n",
    "for i in range(0,len(f1_final)):\n",
    "    f1k1=f1_final[i]-0.035\n",
    "    if f1k1>0:\n",
    "        payoff1.append(f1k1)\n",
    "    else:\n",
    "        payoff1.append(0)\n",
    "    \n",
    "    f2k2=f2_final[i]-0.037\n",
    "    if f2k2>0:\n",
    "        payoff2.append(f2k2)\n",
    "    else:\n",
    "        payoff2.append(0)\n",
    "    reverse_payoff.append(payoff2[i]-payoff1[i])\n",
    "mc_price = 10**9*0.5*np.mean(reverse_payoff)\n",
    "print(mc_price)\n",
    "\n",
    "\n",
    "\n"
   ]
  },
  {
   "cell_type": "code",
   "execution_count": 154,
   "id": "514f2464",
   "metadata": {},
   "outputs": [],
   "source": [
    "#https://github.com/Soph42/Joshi-Projects/tree/main/homework"
   ]
  }
 ],
 "metadata": {
  "kernelspec": {
   "display_name": "Python 3 (ipykernel)",
   "language": "python",
   "name": "python3"
  },
  "language_info": {
   "codemirror_mode": {
    "name": "ipython",
    "version": 3
   },
   "file_extension": ".py",
   "mimetype": "text/x-python",
   "name": "python",
   "nbconvert_exporter": "python",
   "pygments_lexer": "ipython3",
   "version": "3.9.7"
  }
 },
 "nbformat": 4,
 "nbformat_minor": 5
}
