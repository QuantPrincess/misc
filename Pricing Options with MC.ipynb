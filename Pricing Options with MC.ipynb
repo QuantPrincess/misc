{
 "cells": [
  {
   "cell_type": "code",
   "execution_count": 97,
   "id": "7a36dd5f",
   "metadata": {},
   "outputs": [],
   "source": [
    "import numpy as np, math\n",
    "import matplotlib.pyplot as plt\n",
    "import pandas as pd\n",
    "\n",
    "import yfinance as yf\n",
    "from scipy import stats\n",
    "from scipy.stats import norm\n",
    "import pandas_datareader as pdr"
   ]
  },
  {
   "cell_type": "code",
   "execution_count": 98,
   "id": "bffbabe8-706a-4165-bbf2-d5c28ae13a83",
   "metadata": {},
   "outputs": [],
   "source": [
    "#Asset list\n",
    "lst=['AAPL','WMT','ADM','GM','HD','JNJ']\n",
    "\n",
    "#dates for model calibration\n",
    "start_data='2018-01-01'\n",
    "end_data='2019-01-01'"
   ]
  },
  {
   "cell_type": "markdown",
   "id": "c1905ef8-6eae-46ab-b061-6fd685702ae6",
   "metadata": {},
   "source": [
    "## Volatility estimate for list of stocks in 2018"
   ]
  },
  {
   "cell_type": "code",
   "execution_count": 103,
   "id": "f22a1248-624e-466c-87f0-17e30f0c590c",
   "metadata": {},
   "outputs": [],
   "source": [
    "sigma=[]\n",
    "for i in range(0,len(lst)):\n",
    "    stock = pdr.get_data_yahoo(lst[i],start = start_data,end=end_data)['Adj Close']\n",
    "    dlogstock = np.diff(np.log(stock))\n",
    "    dlogstock.mean()\n",
    "    M = dlogstock.size\n",
    "    Δt = T/M\n",
    "    dlogstock.mean()/Δt\n",
    "\n",
    "    σbar = dlogstock.std()/math.sqrt(Δt)\n",
    "    sigma.append(σbar)"
   ]
  },
  {
   "cell_type": "code",
   "execution_count": 104,
   "id": "8f959355-9dfc-4b89-a494-c5b3dceb58eb",
   "metadata": {},
   "outputs": [
    {
     "data": {
      "text/html": [
       "<div>\n",
       "<style scoped>\n",
       "    .dataframe tbody tr th:only-of-type {\n",
       "        vertical-align: middle;\n",
       "    }\n",
       "\n",
       "    .dataframe tbody tr th {\n",
       "        vertical-align: top;\n",
       "    }\n",
       "\n",
       "    .dataframe thead th {\n",
       "        text-align: right;\n",
       "    }\n",
       "</style>\n",
       "<table border=\"1\" class=\"dataframe\">\n",
       "  <thead>\n",
       "    <tr style=\"text-align: right;\">\n",
       "      <th></th>\n",
       "      <th>AAPL</th>\n",
       "      <th>WMT</th>\n",
       "      <th>ADM</th>\n",
       "      <th>GM</th>\n",
       "      <th>HD</th>\n",
       "      <th>JNJ</th>\n",
       "    </tr>\n",
       "  </thead>\n",
       "  <tbody>\n",
       "    <tr>\n",
       "      <th>Vol</th>\n",
       "      <td>0.286035</td>\n",
       "      <td>0.239924</td>\n",
       "      <td>0.187269</td>\n",
       "      <td>0.314638</td>\n",
       "      <td>0.225919</td>\n",
       "      <td>0.221443</td>\n",
       "    </tr>\n",
       "  </tbody>\n",
       "</table>\n",
       "</div>"
      ],
      "text/plain": [
       "         AAPL       WMT       ADM        GM        HD       JNJ\n",
       "Vol  0.286035  0.239924  0.187269  0.314638  0.225919  0.221443"
      ]
     },
     "execution_count": 104,
     "metadata": {},
     "output_type": "execute_result"
    }
   ],
   "source": [
    "#performance metrics\n",
    "vol_df = pd.DataFrame(index=['Vol'], columns=['AAPL', 'WMT', 'ADM', 'GM', 'HD','JNJ'])\n",
    "vol_df.loc['Vol'] = sigma\n",
    "vol_df"
   ]
  },
  {
   "cell_type": "markdown",
   "id": "f1f443b2-a5e4-4ba6-813d-03672520f060",
   "metadata": {},
   "source": [
    "## Pricing euro call using MC\n",
    "## Comparison with Black-Scholes pricing (that I implemented previously)\n",
    "## Graph of how fast the MC price will converge with Black-Scholes price per number of MC simulations"
   ]
  },
  {
   "cell_type": "code",
   "execution_count": 105,
   "id": "6e6aa144",
   "metadata": {},
   "outputs": [],
   "source": [
    "# Data 1 year maturity call\n",
    "T = 1 # five years\n",
    "M = T*252\n",
    "Δt = T/M\n",
    "S0 = 100\n",
    "r = 0.05\n",
    "σ = 0.20\n",
    "K = 105\n",
    "\n",
    "N = 1000000 # number of simulations\n",
    "rng = np.random.default_rng(seed=12345)"
   ]
  },
  {
   "cell_type": "code",
   "execution_count": 106,
   "id": "f1ce0189",
   "metadata": {},
   "outputs": [],
   "source": [
    "def f1(N_M_Δt_S0_r_σ):\n",
    "    N,M,Δt,S0,r,σ = N_M_Δt_S0_r_σ\n",
    "    S = np.empty((N,M+1))\n",
    "    S[:,0] = S0\n",
    "    S[:,1:] = np.exp((r-σ**2/2)*Δt + σ*math.sqrt(Δt)*rng.standard_normal(size=(N,M)))\n",
    "    return S.cumprod(axis=1)"
   ]
  },
  {
   "cell_type": "code",
   "execution_count": 107,
   "id": "1772f625",
   "metadata": {},
   "outputs": [],
   "source": [
    "sims = f1((N,M,Δt,S0,r,σ))\n",
    "Sfinal = sims[:,-1]\n",
    "values = np.maximum(Sfinal - K,0)"
   ]
  },
  {
   "cell_type": "code",
   "execution_count": 108,
   "id": "fab3499c-9f32-4331-891f-58d57d16b2ec",
   "metadata": {},
   "outputs": [
    {
     "data": {
      "text/plain": [
       "8.018005146541974"
      ]
     },
     "execution_count": 108,
     "metadata": {},
     "output_type": "execute_result"
    }
   ],
   "source": [
    "eurocallvalue = values.mean()*math.exp(-r*T)\n",
    "eurocallvalue"
   ]
  },
  {
   "cell_type": "code",
   "execution_count": 109,
   "id": "6c0bc2a1-6009-40cd-aa84-364907413cf1",
   "metadata": {},
   "outputs": [],
   "source": [
    "def ask_for_input():\n",
    "    T = float(input('Please enter time to maturity:'))\n",
    "    r = float(input('Please enter a rate:'))\n",
    "    d = float(input('Please enter dividend rate:'))\n",
    "    K = float(input('Please enter strike:'))\n",
    "    S = float(input('Please enter spot price:'))\n",
    "    sigma = float(input('Please enter volatility:'))\n",
    "    return T, r, d, K, S, sigma\n",
    "\n"
   ]
  },
  {
   "cell_type": "code",
   "execution_count": 110,
   "id": "cfa12e70-8c37-4875-9ef1-765774d1e6e4",
   "metadata": {},
   "outputs": [
    {
     "name": "stdin",
     "output_type": "stream",
     "text": [
      "Please enter time to maturity: 1\n",
      "Please enter a rate: 0.05\n",
      "Please enter dividend rate: 0\n",
      "Please enter strike: 105\n",
      "Please enter spot price: 100\n",
      "Please enter volatility: 0.2\n"
     ]
    },
    {
     "name": "stdout",
     "output_type": "stream",
     "text": [
      "8.021352235143176\n"
     ]
    }
   ],
   "source": [
    "#compare with Black Scholes pricing model\n",
    "def get_call():\n",
    "    T, r, d, K, S, sigma = ask_for_input()\n",
    "    if K==0 or T==0 or sigma ==0:\n",
    "        print('Not a valid input')\n",
    "    elif d == 0:\n",
    "        d1 = (np.log(S/K)+(r+0.5*sigma**2)*T) / (sigma*np.sqrt(T))\n",
    "        d2 = d1-sigma*np.sqrt(T)\n",
    "\n",
    "        call = S*norm.cdf(d1) - K*np.exp(-r*T)*norm.cdf(d2)\n",
    "        print(call)\n",
    "        return call\n",
    "    elif d < 0:\n",
    "        print('Not a valid dividend input')\n",
    "    else:\n",
    "        d1 = (np.log(S/K)+(r+0.5*sigma**2)*T) / (sigma*np.sqrt(T))\n",
    "        d2 = d1-sigma*np.sqrt(T)\n",
    "\n",
    "        call = np.exp(-d*T)*S*norm.cdf(d1) - K*np.exp(-r*T)*norm.cdf(d2)\n",
    "    return(call)\n",
    "bs_call=get_call()"
   ]
  },
  {
   "cell_type": "code",
   "execution_count": 111,
   "id": "fcbe4d5f-2ce8-4a6d-8682-538774357efd",
   "metadata": {},
   "outputs": [],
   "source": [
    "#let's take a look how fast monte carlo converges with blackscholes depending on number of simulations\n",
    "num_sims=np.arange(1,10000,10)\n",
    "mc_call=[]\n",
    "for i in range(len(num_sims)):\n",
    "    N=num_sims[i]\n",
    "    sims = f1((N,M,Δt,S0,r,σ))\n",
    "    Sfinal = sims[:,-1]\n",
    "    values = np.maximum(Sfinal - K,0)\n",
    "    eurocallvalue = values.mean()*math.exp(-r*T)\n",
    "    mc_call.append(eurocallvalue)\n",
    "    "
   ]
  },
  {
   "cell_type": "code",
   "execution_count": 112,
   "id": "ade0b932-7898-453d-b13e-fa4690b917fc",
   "metadata": {},
   "outputs": [
    {
     "data": {
      "text/plain": [
       "<matplotlib.lines.Line2D at 0x7fea92f256d0>"
      ]
     },
     "execution_count": 112,
     "metadata": {},
     "output_type": "execute_result"
    },
    {
     "data": {
      "image/png": "[encoded data removed]",
      "text/plain": [
       "<Figure size 640x480 with 1 Axes>"
      ]
     },
     "metadata": {},
     "output_type": "display_data"
    }
   ],
   "source": [
    "plt.plot(num_sims,mc_call)\n",
    "plt.xlabel('Number of Simulations')\n",
    "plt.ylabel('Call Price')\n",
    "plt.axhline(y = bs_call, color = 'r', linestyle = '-')"
   ]
  },
  {
   "cell_type": "markdown",
   "id": "efb58528-dd78-4aa4-ae2a-2fb1af70d8b0",
   "metadata": {},
   "source": [
    "## As we can see, monte carlo simulation will converge to the Black Scholes price of the option as the number of simulations increases"
   ]
  },
  {
   "cell_type": "code",
   "execution_count": null,
   "id": "1e928bb6-8ae8-4925-925f-812446376d8b",
   "metadata": {},
   "outputs": [],
   "source": []
  }
 ],
 "metadata": {
  "kernelspec": {
   "display_name": "Python 3 (ipykernel)",
   "language": "python",
   "name": "python3"
  },
  "language_info": {
   "codemirror_mode": {
    "name": "ipython",
    "version": 3
   },
   "file_extension": ".py",
   "mimetype": "text/x-python",
   "name": "python",
   "nbconvert_exporter": "python",
   "pygments_lexer": "ipython3",
   "version": "3.9.7"
  }
 },
 "nbformat": 4,
 "nbformat_minor": 5
}
