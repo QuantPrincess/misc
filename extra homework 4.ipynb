{
 "cells": [
  {
   "cell_type": "code",
   "execution_count": 1,
   "id": "24561b9d",
   "metadata": {},
   "outputs": [],
   "source": [
    "import numpy as np\n",
    "import scipy\n",
    "from scipy.stats import norm\n",
    "from scipy.integrate import quad\n",
    "import random\n",
    "\n",
    "import matplotlib.pyplot as plt\n",
    "from math import comb\n",
    "from scipy.stats import binom\n",
    "import sympy\n",
    "import math\n",
    "from scipy import integrate\n",
    "import pandas as pd"
   ]
  },
  {
   "cell_type": "code",
   "execution_count": 2,
   "id": "c400532d",
   "metadata": {},
   "outputs": [
    {
     "name": "stdout",
     "output_type": "stream",
     "text": [
      "1.7890226706768302\n",
      "2.960788529062397\n",
      "0.0015342627570605893\n",
      "1.7890226706768302\n",
      "2.3497784364016185\n",
      "0.009392294429213077\n"
     ]
    }
   ],
   "source": [
    "#1a (Let t=5, rho=.7 -> calc p(ti<t|M=m) for m = 0.2 and m=.6)\n",
    "\n",
    "t=5.0\n",
    "m=0.2\n",
    "h=0.0075\n",
    "rho=0.7\n",
    "\n",
    "tr=norm.ppf(np.exp(-t*h))\n",
    "print(tr)\n",
    "cr= (tr-m*np.sqrt(rho))/(np.sqrt(1-rho))\n",
    "print(cr)\n",
    "gamma=1-norm.cdf(cr)\n",
    "print(gamma)\n",
    "\n",
    "t=5.0\n",
    "m=0.6\n",
    "h=0.0075\n",
    "rho=0.7\n",
    "\n",
    "tr=norm.ppf(np.exp(-t*h))\n",
    "print(tr)\n",
    "cr= (tr-m*np.sqrt(rho))/(np.sqrt(1-rho))\n",
    "print(cr)\n",
    "gamma=1-norm.cdf(cr)\n",
    "print(gamma)"
   ]
  },
  {
   "cell_type": "code",
   "execution_count": 3,
   "id": "0ae56215",
   "metadata": {},
   "outputs": [
    {
     "name": "stdout",
     "output_type": "stream",
     "text": [
      "prob at least 3 given m=.2 -> 2.0108862055144246e-05\n",
      "prob at least 3 given m=.6 -> 0.004478857605731039\n"
     ]
    }
   ],
   "source": [
    "#1b p(at least 3|m)=1-p(exactly 0|m)-p(exactly 1|m)-p(exactly 2|m)\n",
    "\n",
    "t=5.0\n",
    "m=0.2\n",
    "h=0.0075\n",
    "rho=0.7\n",
    "n=0\n",
    "beta_list=[]\n",
    "tr=norm.ppf(np.exp(-t*h))\n",
    "cr= (tr-m*np.sqrt(rho))/(np.sqrt(1-rho))\n",
    "gamma=1-norm.cdf(cr)\n",
    "\n",
    "\n",
    "\n",
    "for n in range(0,3):\n",
    "    beta=comb(8,n)*(gamma**n)*((1-gamma)**(8-n))\n",
    "    beta_list.append(beta)\n",
    "patleast3= 1-beta_list[0]-beta_list[1]-beta_list[2]\n",
    "\n",
    "print('prob at least 3 given m=.2 ->', patleast3*100)\n",
    "\n",
    "t=5.0\n",
    "m=0.6\n",
    "h=0.0075\n",
    "rho=0.7\n",
    "n=0\n",
    "beta_list=[]\n",
    "tr=norm.ppf(np.exp(-t*h))\n",
    "cr= (tr-m*np.sqrt(rho))/(np.sqrt(1-rho))\n",
    "gamma=1-norm.cdf(cr)\n",
    "\n",
    "\n",
    "\n",
    "\n",
    "for n in range(0,3):\n",
    "    beta=comb(8,n)*(gamma**n)*((1-gamma)**(8-n))\n",
    "    beta_list.append(beta)\n",
    "patleast3= 1-beta_list[0]-beta_list[1]-beta_list[2]\n",
    "\n",
    "print(\"prob at least 3 given m=.6 ->\", patleast3*100)\n",
    "    \n",
    "\n"
   ]
  },
  {
   "cell_type": "code",
   "execution_count": null,
   "id": "350aed28",
   "metadata": {},
   "outputs": [],
   "source": []
  }
 ],
 "metadata": {
  "kernelspec": {
   "display_name": "Python 3 (ipykernel)",
   "language": "python",
   "name": "python3"
  },
  "language_info": {
   "codemirror_mode": {
    "name": "ipython",
    "version": 3
   },
   "file_extension": ".py",
   "mimetype": "text/x-python",
   "name": "python",
   "nbconvert_exporter": "python",
   "pygments_lexer": "ipython3",
   "version": "3.9.7"
  }
 },
 "nbformat": 4,
 "nbformat_minor": 5
}
